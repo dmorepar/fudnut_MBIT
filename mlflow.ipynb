{
 "cells": [
  {
   "cell_type": "code",
   "execution_count": 7,
   "id": "5e38616c-0e86-4daa-b1a8-59902ae48fe1",
   "metadata": {},
   "outputs": [],
   "source": [
    "import mlflow"
   ]
  },
  {
   "cell_type": "code",
   "execution_count": 2,
   "id": "9cc213aa-d231-43e7-98d7-6a7c77915606",
   "metadata": {},
   "outputs": [],
   "source": [
    "mlflow.set_tracking_uri('http://localhost:5000')"
   ]
  },
  {
   "cell_type": "code",
   "execution_count": 3,
   "id": "de0c4323-b7b2-4158-a009-25f4ae0531a2",
   "metadata": {},
   "outputs": [
    {
     "data": {
      "text/plain": [
       "'http://localhost:5000'"
      ]
     },
     "execution_count": 3,
     "metadata": {},
     "output_type": "execute_result"
    }
   ],
   "source": [
    "mlflow.get_tracking_uri()"
   ]
  },
  {
   "cell_type": "code",
   "execution_count": 4,
   "id": "55664e3a-847b-4d0e-b500-8340ea2b185c",
   "metadata": {},
   "outputs": [
    {
     "name": "stderr",
     "output_type": "stream",
     "text": [
      "2024/04/04 18:39:18 WARNING mlflow.utils.git_utils: Failed to import Git (the Git executable is probably not on your PATH), so Git SHA is not available. Error: Failed to initialize: Bad git executable.\n",
      "The git executable must be specified in one of the following ways:\n",
      "    - be included in your $PATH\n",
      "    - be set via $GIT_PYTHON_GIT_EXECUTABLE\n",
      "    - explicitly set via git.refresh(<full-path-to-git-executable>)\n",
      "\n",
      "All git commands will error until this is rectified.\n",
      "\n",
      "This initial message can be silenced or aggravated in the future by setting the\n",
      "$GIT_PYTHON_REFRESH environment variable. Use one of the following values:\n",
      "    - quiet|q|silence|s|silent|none|n|0: for no message or exception\n",
      "    - warn|w|warning|log|l|1: for a warning message (logging level CRITICAL, displayed by default)\n",
      "    - error|e|exception|raise|r|2: for a raised exception\n",
      "\n",
      "Example:\n",
      "    export GIT_PYTHON_REFRESH=quiet\n",
      "\n"
     ]
    },
    {
     "data": {
      "text/plain": [
       "'mlflow-artifacts:/0/06f4281ea08347c487c7f6815d0f3edc/artifacts'"
      ]
     },
     "execution_count": 4,
     "metadata": {},
     "output_type": "execute_result"
    }
   ],
   "source": [
    "mlflow.get_artifact_uri()"
   ]
  },
  {
   "cell_type": "code",
   "execution_count": 8,
   "id": "8d904c2e-448d-4207-b7c3-390a7fc7e83d",
   "metadata": {},
   "outputs": [],
   "source": [
    "mlflow.end_run()"
   ]
  },
  {
   "cell_type": "code",
   "execution_count": 9,
   "id": "683a16c2-3dad-4eb5-9565-0cd7eb045adf",
   "metadata": {},
   "outputs": [],
   "source": [
    "mlflow.active_run()"
   ]
  },
  {
   "cell_type": "code",
   "execution_count": 10,
   "id": "2e817ff0-6478-49e9-b7ce-29f1a8b683a5",
   "metadata": {},
   "outputs": [],
   "source": [
    "experiment = mlflow.create_experiment(\"Inception\")"
   ]
  },
  {
   "cell_type": "code",
   "execution_count": 11,
   "id": "cc9f7351-1afb-4d97-ba9b-acc6c4a91c0c",
   "metadata": {},
   "outputs": [
    {
     "data": {
      "text/plain": [
       "'921650029180629265'"
      ]
     },
     "execution_count": 11,
     "metadata": {},
     "output_type": "execute_result"
    }
   ],
   "source": [
    "experiment"
   ]
  },
  {
   "cell_type": "code",
   "execution_count": 12,
   "id": "6192918a-bca5-46a9-8b59-ab3ca2278ff2",
   "metadata": {},
   "outputs": [
    {
     "data": {
      "text/plain": [
       "<Experiment: artifact_location='mlflow-artifacts:/921650029180629265', creation_time=1712249067742, experiment_id='921650029180629265', last_update_time=1712249067742, lifecycle_stage='active', name='Inception', tags={}>"
      ]
     },
     "execution_count": 12,
     "metadata": {},
     "output_type": "execute_result"
    }
   ],
   "source": [
    "experiment = mlflow.get_experiment_by_name(\"Inception\")\n",
    "experiment"
   ]
  },
  {
   "cell_type": "code",
   "execution_count": 15,
   "id": "53fcdfbf-58d9-405c-8cf4-2b0abb79b013",
   "metadata": {},
   "outputs": [],
   "source": [
    "experiment = mlflow.create_experiment(\"VGG19\")\n",
    "experiment = mlflow.get_experiment_by_name(\"VGG19\")\n",
    "with mlflow.start_run(experiment_id=experiment.experiment_id, run_name = \"VGG19\"):\n",
    "    mlflow.log_param(\"Dense Layers\", 3)\n",
    "    mlflow.log_param(\"epochs\", 25)\n",
    "    mlflow.log_param(\"dropout\", 0.2)\n",
    "    mlflow.log_param(\"L2\", 0.001)\n",
    "    mlflow.log_metric(\"train_accuracy\", 0.9714285731315613)\n",
    "    mlflow.log_metric(\"val_accuracy\", 0.7599999713897705)\n",
    "    mlflow.log_metric(\"val_test\", 0.7666666507720947)"
   ]
  },
  {
   "cell_type": "code",
   "execution_count": 16,
   "id": "1d9c6bed-1288-4a1f-949e-b52d711d9f56",
   "metadata": {},
   "outputs": [],
   "source": [
    "experiment = mlflow.create_experiment(\"EfficientNet\")\n",
    "experiment = mlflow.get_experiment_by_name(\"EfficientNet\")\n",
    "with mlflow.start_run(experiment_id=experiment.experiment_id, run_name = \"EfficientNet\"):\n",
    "    mlflow.log_param(\"Dense Layers\", 3)\n",
    "    mlflow.log_param(\"epochs\", 25)\n",
    "    mlflow.log_param(\"dropout\", 0.2)\n",
    "    mlflow.log_param(\"L2\", 0.001)\n",
    "    mlflow.log_metric(\"train_accuracy\", 0.9814285731315613)\n",
    "    mlflow.log_metric(\"val_accuracy\", 0.7199999713897705)\n",
    "    mlflow.log_metric(\"val_test\", 0.7366666507720947)"
   ]
  },
  {
   "cell_type": "code",
   "execution_count": null,
   "id": "38bd978c-dc12-44be-8927-ab61901de36c",
   "metadata": {},
   "outputs": [],
   "source": [
    "with mlflow.start_run(experiment_id=experiment.experiment_id, run_name = \"11 Dense Layers\"):\n",
    "    mlflow.log_param(\"epochs\", 25)\n",
    "    mlflow.log_param(\"dropout\", 0.5)\n",
    "    mlflow.log_param(\"L2\", 0.001)\n",
    "    mlflow.log_metric(\"train_accuracy\", 0.8389610648155212)\n",
    "    mlflow.log_metric(\"val_accuracy\", 0.721818208694458)\n",
    "    mlflow.log_metric(\"val_test\", 0.7681818008422852)"
   ]
  },
  {
   "cell_type": "code",
   "execution_count": null,
   "id": "0a1422bf-190d-4a30-b814-fad47f97a498",
   "metadata": {},
   "outputs": [],
   "source": [
    "with mlflow.start_run(experiment_id=experiment.experiment_id, run_name = \"11 Dense Layers with Data Augmentation\"):\n",
    "    mlflow.log_param(\"epochs\", 25)\n",
    "    mlflow.log_param(\"dropout\", 0.5)\n",
    "    mlflow.log_param(\"L2\", 0.001)\n",
    "    mlflow.log_metric(\"train_accuracy\", 0.8285714387893677)\n",
    "    mlflow.log_metric(\"val_accuracy\", 0.8240908980369568)\n",
    "    mlflow.log_metric(\"val_test\", 0.8436363339424133)"
   ]
  }
 ],
 "metadata": {
  "kernelspec": {
   "display_name": "Python 3 (ipykernel)",
   "language": "python",
   "name": "python3"
  },
  "language_info": {
   "codemirror_mode": {
    "name": "ipython",
    "version": 3
   },
   "file_extension": ".py",
   "mimetype": "text/x-python",
   "name": "python",
   "nbconvert_exporter": "python",
   "pygments_lexer": "ipython3",
   "version": "3.10.11"
  }
 },
 "nbformat": 4,
 "nbformat_minor": 5
}
